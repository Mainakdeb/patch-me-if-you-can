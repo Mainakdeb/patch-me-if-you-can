{
  "nbformat": 4,
  "nbformat_minor": 0,
  "metadata": {
    "colab": {
      "name": "patch-attack.ipynb",
      "provenance": [],
      "collapsed_sections": []
    },
    "kernelspec": {
      "name": "python3",
      "display_name": "Python 3"
    },
    "language_info": {
      "name": "python"
    },
    "accelerator": "GPU"
  },
  "cells": [
    {
      "cell_type": "code",
      "source": [
        "import os\n",
        "import numpy as np\n",
        "import cv2\n",
        "import json\n",
        "\n",
        "## Imports for plotting\n",
        "import matplotlib.pyplot as plt\n",
        "from PIL import Image\n",
        "from numpy import asarray\n",
        "from IPython.display import clear_output\n",
        "\n",
        "## Progress bar\n",
        "from tqdm.notebook import tqdm\n",
        "\n",
        "## PyTorch\n",
        "import torch\n",
        "import torch.nn as nn\n",
        "import torch.nn.functional as F\n",
        "import torch.utils.data as data\n",
        "import torch.optim as optim\n",
        "\n",
        "# Torchvision\n",
        "import torchvision\n",
        "from torchvision import transforms\n",
        "\n",
        "\n",
        "DATASET_PATH = \"../data\"\n",
        "CHECKPOINT_PATH = \"../saved_models/tutorial10\"\n",
        "\n",
        "device = torch.device(\"cpu\") if not torch.cuda.is_available() else torch.device(\"cuda:0\")\n",
        "print(\"Using device\", device)"
      ],
      "metadata": {
        "id": "Vhyg6d_8knN9"
      },
      "execution_count": null,
      "outputs": []
    },
    {
      "cell_type": "code",
      "source": [
        "import urllib.request\n",
        "from urllib.error import HTTPError\n",
        "import zipfile\n",
        "\n",
        "# Files to download\n",
        "pretrained_files = [(DATASET_PATH, \"TinyImageNet.zip\")]\n",
        "# Create checkpoint path if it doesn't exist yet\n",
        "os.makedirs(DATASET_PATH, exist_ok=True)\n",
        "base_url = \"https://raw.githubusercontent.com/phlippe/saved_models/main/tutorial10/\"\n",
        "\n",
        "# For each file, check whether it already exists. If not, try downloading it.\n",
        "for dir_name, file_name in pretrained_files:\n",
        "    file_path = os.path.join(dir_name, file_name)\n",
        "    if not os.path.isfile(file_path):\n",
        "        file_url = base_url + file_name\n",
        "        print(f\"Downloading {file_url}...\")\n",
        "        try:\n",
        "            urllib.request.urlretrieve(file_url, file_path)\n",
        "        except HTTPError as e:\n",
        "            print(\"Something went wrong. Please try to download the file from the GDrive folder, or contact the author with the full output including the following error:\\n\", e)\n",
        "        if file_name.endswith(\".zip\"):\n",
        "            print(\"Unzipping file...\")\n",
        "            with zipfile.ZipFile(file_path, 'r') as zip_ref:\n",
        "                zip_ref.extractall(file_path.rsplit(\"/\",1)[0])"
      ],
      "metadata": {
        "id": "uqQ4jx_1knLc"
      },
      "execution_count": null,
      "outputs": []
    },
    {
      "cell_type": "code",
      "source": [
        "# Load CNN architecture pretrained on ImageNet\n",
        "os.environ[\"TORCH_HOME\"] = CHECKPOINT_PATH\n",
        "pretrained_model = torchvision.models.resnet34(pretrained=True)\n",
        "pretrained_model = pretrained_model.to(device)\n",
        "\n",
        "# No gradients needed for the network\n",
        "pretrained_model.eval()\n",
        "for p in pretrained_model.parameters():\n",
        "    p.requires_grad = False"
      ],
      "metadata": {
        "id": "cwAI5I6wknI0"
      },
      "execution_count": null,
      "outputs": []
    },
    {
      "cell_type": "code",
      "source": [
        "# Mean and Std from ImageNet\n",
        "NORM_MEAN = np.array([0.485, 0.456, 0.406])\n",
        "NORM_STD = np.array([0.229, 0.224, 0.225])\n",
        "# No resizing and center crop necessary as images are already preprocessed.\n",
        "plain_transforms = transforms.Compose([\n",
        "    transforms.ToTensor(),\n",
        "    transforms.Normalize(mean=NORM_MEAN,std=NORM_STD),\n",
        "    # transforms.Resize((256, 256))\n",
        "])\n",
        "\n",
        "# Load dataset and create data loader\n",
        "imagenet_path = os.path.join(DATASET_PATH, \"TinyImageNet/\")\n",
        "assert os.path.isdir(imagenet_path), f\"Could not find the ImageNet dataset at expected path \\\"{imagenet_path}\\\". \" + \\\n",
        "                                     f\"Please make sure to have downloaded the ImageNet dataset here, or change the {DATASET_PATH} variable.\"\n",
        "dataset = torchvision.datasets.ImageFolder(root=imagenet_path, transform=plain_transforms)\n",
        "data_loader = data.DataLoader(dataset, batch_size=32, shuffle=False, drop_last=False, num_workers=8)\n",
        "\n",
        "# Load label names to interpret the label numbers 0 to 999\n",
        "with open(os.path.join(imagenet_path, \"label_list.json\"), \"r\") as f:\n",
        "    label_names = json.load(f)\n",
        "\n",
        "def get_label_index(lab_str):\n",
        "    assert lab_str in label_names, f\"Label \\\"{lab_str}\\\" not found. Check the spelling of the class.\"\n",
        "    return label_names.index(lab_str)"
      ],
      "metadata": {
        "id": "FP-U5Mg305_L"
      },
      "execution_count": null,
      "outputs": []
    },
    {
      "cell_type": "code",
      "source": [
        "def eval_model(dataset_loader, img_func=None):\n",
        "    tp, tp_5, counter = 0., 0., 0.\n",
        "    for imgs, labels in tqdm(dataset_loader, desc=\"Validating...\"):\n",
        "        imgs = imgs.to(device)\n",
        "        labels = labels.to(device)\n",
        "        if img_func is not None:\n",
        "            imgs = img_func(imgs, labels)\n",
        "        with torch.no_grad():\n",
        "            preds = pretrained_model(imgs)\n",
        "        tp += (preds.argmax(dim=-1) == labels).sum()\n",
        "        tp_5 += (preds.topk(5, dim=-1)[1] == labels[...,None]).any(dim=-1).sum()\n",
        "        counter += preds.shape[0]\n",
        "    acc = tp.float().item()/counter\n",
        "    top5 = tp_5.float().item()/counter\n",
        "    print(f\"Top-1 error: {(100.0 * (1 - acc)):4.2f}%\")\n",
        "    print(f\"Top-5 error: {(100.0 * (1 - top5)):4.2f}%\")\n",
        "    return acc, top5"
      ],
      "metadata": {
        "id": "O_2xvIxm058Y"
      },
      "execution_count": null,
      "outputs": []
    },
    {
      "cell_type": "code",
      "source": [
        "def place_patch(img, patch):\n",
        "    for i in range(img.shape[0]):\n",
        "        h_offset = np.random.randint(0,img.shape[2]-patch.shape[1]-1)\n",
        "        w_offset = np.random.randint(0,img.shape[3]-patch.shape[2]-1)\n",
        "        img[i,:,h_offset:h_offset+patch.shape[1],w_offset:w_offset+patch.shape[2]] = patch_forward(patch)\n",
        "    return img"
      ],
      "metadata": {
        "id": "tY9zsW15051W"
      },
      "execution_count": null,
      "outputs": []
    },
    {
      "cell_type": "code",
      "source": [
        "TENSOR_MEANS, TENSOR_STD = torch.FloatTensor(NORM_MEAN)[:,None,None], torch.FloatTensor(NORM_STD)[:,None,None]\n",
        "def patch_forward(patch):\n",
        "    # Map patch values from [-infty,infty] to ImageNet min and max\n",
        "    patch = (torch.tanh(patch) + 1 - 2 * TENSOR_MEANS) / (2 * TENSOR_STD)\n",
        "    return patch"
      ],
      "metadata": {
        "id": "r50PafxH05zB"
      },
      "execution_count": null,
      "outputs": []
    },
    {
      "cell_type": "code",
      "source": [
        "def eval_patch(model, patch, val_loader, target_class):\n",
        "    model.eval()\n",
        "    tp, tp_5, counter = 0., 0., 0.\n",
        "    with torch.no_grad():\n",
        "        for img, img_labels in tqdm(val_loader, desc=\"Validating...\", leave=False):\n",
        "            # For stability, place the patch at 4 random locations per image, and average the performance\n",
        "            for _ in range(4):\n",
        "                patch_img = place_patch(img, patch)\n",
        "                patch_img = patch_img.to(device)\n",
        "                img_labels = img_labels.to(device)\n",
        "                pred = model(patch_img)\n",
        "                # In the accuracy calculation, we need to exclude the images that are of our target class\n",
        "                # as we would not \"fool\" the model into predicting those\n",
        "                tp += torch.logical_and(pred.argmax(dim=-1) == target_class, img_labels != target_class).sum()\n",
        "                tp_5 += torch.logical_and((pred.topk(5, dim=-1)[1] == target_class).any(dim=-1), img_labels != target_class).sum()\n",
        "                counter += (img_labels != target_class).sum()\n",
        "    acc = tp/counter\n",
        "    top5 = tp_5/counter\n",
        "    return acc, top5"
      ],
      "metadata": {
        "id": "F8s94g9Q05wR"
      },
      "execution_count": null,
      "outputs": []
    },
    {
      "cell_type": "code",
      "source": [
        "def patch_attack(model, target_class, patch_size, num_epochs, pretrained_patch):\n",
        "    # Leave a small set of images out to check generalization\n",
        "    # In most of our experiments, the performance on the hold-out data points\n",
        "    # was as good as on the training set. Overfitting was little possible due\n",
        "    # to the small size of the patches.\n",
        "    train_set, val_set = torch.utils.data.random_split(dataset, [4800, 200])\n",
        "    train_loader = data.DataLoader(train_set, batch_size=64, shuffle=True, drop_last=True, num_workers=8)\n",
        "    val_loader = data.DataLoader(val_set, batch_size=32, shuffle=False, drop_last=False, num_workers=4)\n",
        "\n",
        "    # Create parameter and optimizer\n",
        "    if not isinstance(patch_size, tuple):\n",
        "        patch_size = (patch_size, patch_size)\n",
        "    if pretrained_patch is None:\n",
        "        patch = nn.Parameter(torch.zeros(3, patch_size[0], patch_size[1]), requires_grad=True)\n",
        "    else:\n",
        "        patch_np = np.load(pretrained_patch)\n",
        "        patch = nn.Parameter(torch.tensor(patch_np), requires_grad=True)\n",
        "\n",
        "    optimizer = torch.optim.SGD([patch], lr=1e-1, momentum=0.5)\n",
        "    loss_module = nn.CrossEntropyLoss()\n",
        "\n",
        "    # Training loop\n",
        "    for epoch in range(num_epochs):\n",
        "        clear_output(wait=True)\n",
        "        patch_temp=patch.detach().cpu().permute(2, 1, 0)\n",
        "        patch_temp = (torch.tanh(patch_temp) + 1) / 2\n",
        "        patch_temp = np.clip(patch_temp, a_min=0.0, a_max=1.0)\n",
        "        plt.imshow(patch_temp)\n",
        "        plt.grid(False)\n",
        "        plt.show()\n",
        "\n",
        "        t = tqdm(train_loader, leave=False)\n",
        "        for img, _ in t:\n",
        "            img = place_patch(img, patch)\n",
        "            img = img.to(device)\n",
        "            pred = model(img)\n",
        "            labels = torch.zeros(img.shape[0], device=pred.device, dtype=torch.long).fill_(target_class)\n",
        "            loss = loss_module(pred, labels)\n",
        "            optimizer.zero_grad()\n",
        "            loss.mean().backward()\n",
        "            optimizer.step()\n",
        "            t.set_description(f\"Epoch {epoch}, Loss: {loss.item():4.2f}\")\n",
        "\n",
        "    # Final validation\n",
        "    acc, top5 = eval_patch(model, patch, val_loader, target_class)\n",
        "\n",
        "    return patch.data, {\"acc\": acc.item(), \"top5\": top5.item()}"
      ],
      "metadata": {
        "id": "v5hsuTqV2MpS"
      },
      "execution_count": null,
      "outputs": []
    },
    {
      "cell_type": "code",
      "source": [
        "patch, metrics = patch_attack(model = pretrained_model, \n",
        "                              target_class = 761,\n",
        "                              patch_size = 64,\n",
        "                              num_epochs = 32,\n",
        "                              pretrained_patch=None)\n",
        "\n",
        "np.save('patch_761.npy', patch)\n",
        "patch = patch.cpu().permute(2, 1, 0)\n",
        "patch = (torch.tanh(patch) + 1) / 2\n",
        "patch = np.clip(patch, a_min=0.0, a_max=1.0)\n",
        "# save patch"
      ],
      "metadata": {
        "id": "-Lqk21rc2mhp"
      },
      "execution_count": null,
      "outputs": []
    },
    {
      "cell_type": "code",
      "source": [
        "!wget  \"https://upload.wikimedia.org/wikipedia/commons/thumb/8/85/Senior_Airman_Benton_Pohlman_fires_an_M4_carbine_rifle_%2834135723246%29.jpg/1200px-Senior_Airman_Benton_Pohlman_fires_an_M4_carbine_rifle_%2834135723246%29.jpg\" -O \"pistol.jpg\""
      ],
      "metadata": {
        "id": "IPSf7iSqj5kr"
      },
      "execution_count": null,
      "outputs": []
    },
    {
      "cell_type": "code",
      "source": [
        "patch=np.load('/content/patch_761.npy').transpose(2,1,0)"
      ],
      "metadata": {
        "id": "SXc3CpYhpxrb"
      },
      "execution_count": null,
      "outputs": []
    },
    {
      "cell_type": "code",
      "source": [
        "def NormalizeData(data):\n",
        "    return (data - np.min(data)) / (np.max(data) - np.min(data))\n",
        "\n",
        "def attack_image(input_normed, input_raw, attack_patch,):\n",
        "  # input_numpy = asarray(Image.open(image_path))\n",
        "\n",
        "#   input_numpy = NormalizeData(input_numpy)\n",
        "  patch_show = (np.tanh(attack_patch) + 1) / 2\n",
        "#   patch_show = np.clip(patch, a_min=0.0, a_max=1.0)\n",
        "\n",
        "  h_offset = np.random.randint(0,input_normed.shape[0]-attack_patch.shape[0]-1)\n",
        "  w_offset = np.random.randint(0,input_normed.shape[1]-attack_patch.shape[1]-1)\n",
        "  ret = input_normed.copy()\n",
        "  ret[h_offset:h_offset+patch.shape[0],w_offset:w_offset+patch.shape[1]] = attack_patch\n",
        "\n",
        "  input_raw = NormalizeData(input_raw)\n",
        "  input_raw[h_offset:h_offset+patch.shape[0],w_offset:w_offset+patch.shape[1]] = patch_show\n",
        "  return ret, input_raw"
      ],
      "metadata": {
        "id": "ZI3GjvQYXnjr"
      },
      "execution_count": null,
      "outputs": []
    },
    {
      "cell_type": "code",
      "source": [
        "#plot top 5 inference scores on original and attacked\n",
        "def indices_to_names(indices, label_names):\n",
        "  names = label_names[indices]\n",
        "  return(names)\n",
        "\n",
        "def top_5_predictions(input_numpy, patch, resize_input, model, label_names, transforms):\n",
        "  if resize_input:\n",
        "      input_numpy = cv2.resize(input_numpy, dsize=(256, 256), interpolation=cv2.INTER_CUBIC)\n",
        "\n",
        "  input_show = np.empty_like(input_numpy)\n",
        "  input_show[:] = input_numpy\n",
        "\n",
        "  fig, ax = plt.subplots(nrows=2, ncols=2)\n",
        "  ax[0][0].imshow(input_show)\n",
        "\n",
        "  input_numpy = transforms(input_numpy).numpy().transpose(1,2,0)\n",
        "  attacked_input_numpy, attacked_input_show = attack_image(input_numpy, input_show, patch)\n",
        "  \n",
        "  input_1 = torch.tensor(input_numpy.transpose(2,1,0)).unsqueeze(0).type(torch.cuda.FloatTensor).to(device)\n",
        "  input_2 = torch.tensor(attacked_input_numpy.transpose(2, 1, 0)).unsqueeze(0).type(torch.cuda.FloatTensor).to(device)\n",
        "\n",
        "  results_1 = torch.softmax(model(input_1), dim=-1).cpu()[0]\n",
        "  results_2 = torch.softmax(model(input_2), dim=-1).cpu()[0]\n",
        "  values_1, indices_1 = results_1.topk(5)\n",
        "  values_2, indices_2 = results_2.topk(5)\n",
        "\n",
        "  argmax_1, argmax_2 = torch.argmax(results_1), torch.argmax(results_2)\n",
        "  names_1, names_2 = label_names[indices_1.cpu().numpy()], label_names[indices_2.cpu().numpy()]\n",
        "\n",
        "  plt.rcParams[\"figure.figsize\"] = (9,9)\n",
        "  \n",
        "  ax[0][1].imshow(attacked_input_show)\n",
        "  ax[1][0].bar([i for i in range(5)], values_1)\n",
        "  ax[1][0].set_xticks([i for i in range(5)])\n",
        "  ax[1][0].set_xticklabels(names_1, rotation=40)\n",
        "  \n",
        "  ax[1][1].bar([i for i in range(5)], values_2)\n",
        "  ax[1][1].set_xticks([i for i in range(5)])\n",
        "  ax[1][1].set_xticklabels(names_2, rotation=40)"
      ],
      "metadata": {
        "id": "KaERW9uea28K"
      },
      "execution_count": null,
      "outputs": []
    },
    {
      "cell_type": "code",
      "source": [
        "i=plt.imread('pistol.jpg')\n",
        "top_5_predictions(input_numpy=i, \n",
        "                  patch=patch, \n",
        "                  resize_input=True,\n",
        "                  model=pretrained_model, \n",
        "                  label_names=np.array(label_names), \n",
        "                  transforms=plain_transforms)"
      ],
      "metadata": {
        "id": "l2QCrC97nC1Z"
      },
      "execution_count": null,
      "outputs": []
    },
    {
      "cell_type": "code",
      "source": [
        ""
      ],
      "metadata": {
        "id": "YfeX-UkkhNiW"
      },
      "execution_count": null,
      "outputs": []
    }
  ]
}